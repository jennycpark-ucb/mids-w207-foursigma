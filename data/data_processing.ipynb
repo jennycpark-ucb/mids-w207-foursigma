{
 "cells": [
  {
   "cell_type": "code",
   "execution_count": 1,
   "id": "b7af5ba5",
   "metadata": {},
   "outputs": [],
   "source": [
    "import numpy as np\n",
    "import pandas as pd\n",
    "import glob\n",
    "import os\n",
    "import xlrd\n",
    "import openpyxl\n"
   ]
  },
  {
   "cell_type": "code",
   "execution_count": 31,
   "id": "b0808219",
   "metadata": {},
   "outputs": [],
   "source": [
    "# Read S&P Global indices\n",
    "folder_path = 'raw'\n",
    "\n",
    "# Get all .xls files in the folder\n",
    "xls_files = glob.glob(os.path.join(folder_path, '*.xls'))\n",
    "\n",
    "# Read all files\n",
    "dataframes = []\n",
    "for file in xls_files:\n",
    "    df = pd.read_excel(file, skiprows=6, usecols=[0, 1]).iloc[:-1].dropna(how='all')\n",
    "    df['Effective date '] = pd.to_datetime(df['Effective date '])\n",
    "    dataframes.append(df)\n",
    "\n",
    "df_merged = dataframes[0]\n",
    "for idx in range(1, len(dataframes)):\n",
    "    df_merged = df_merged.merge(dataframes[idx],  how='outer', on='Effective date ',left_index=False, right_index=False)"
   ]
  },
  {
   "cell_type": "code",
   "execution_count": 32,
   "id": "29513210",
   "metadata": {},
   "outputs": [],
   "source": [
    "# Read two MSCI indices from msci file\n",
    "msci = pd.read_excel('raw/msci.xlsx', skiprows=5, usecols=[0, 1, 2]).dropna(how='all')\n",
    "msci['Date'] = pd.to_datetime(msci['Date'])\n",
    "\n",
    "# Merge msci indices with S&P global indices\n",
    "df_merged = df_merged.merge(msci,  how='left', left_on='Effective date ', right_on = 'Date', \n",
    "                            left_index=False, right_index=False).drop(columns='Date')"
   ]
  },
  {
   "cell_type": "code",
   "execution_count": null,
   "id": "3d95babd",
   "metadata": {},
   "outputs": [],
   "source": [
    "# Read vix\n",
    "vix = pd.read_csv('raw/vix.csv').dropna(how='all')[['Date','vix']].dropna(how='all')\n",
    "vix['Date'] = pd.to_datetime(vix['Date'])\n",
    "df_merged = df_merged.merge(vix,  how='left', left_on='Effective date ', right_on = 'Date', \n",
    "                            left_index=False, right_index=False).drop(columns='Date')"
   ]
  },
  {
   "cell_type": "code",
   "execution_count": null,
   "id": "48f3af7f",
   "metadata": {},
   "outputs": [],
   "source": [
    "# Rename columns\n",
    "df_merged = df_merged.rename(columns={'Effective date ': 'date',\n",
    "                          'S&P US Dollar Futures Index TR': 'us_dollar',\n",
    "                          'S&P GSCI TR': 'commodities',\n",
    "                          'S&P Composite 1500 (TR)':'us_equity',\n",
    "                          'S&P 500 Value (TR)': 'value',\n",
    "                          'S&P 600 (TR)': 'small_cap',\n",
    "                          'S&P 500 Low Volatility Index TR':'low_vol',\n",
    "                          'S&P U.S. High Yield Corporate Bond Index': 'credit',\n",
    "                          'S&P U.S. Treasury Bond 10+ Year Index':'interest_rate',\n",
    "                          'S&P 500 Momentum Index (US Dollar) Gross Total Return':'momentum',\n",
    "                          'S&P GSCI (U.S. 10Y TIPS) (USD) TR':'inflation',\n",
    "                          'S&P Bitcoin Index (USD)':'bitcoin',\n",
    "                          'S&P 500 Quality (US Dollar) Gross Total Return':'quality',\n",
    "                          'S&P Equity Trend (5 Region) Long/Short Index (USD) TR':'trend',\n",
    "                          'MSCI World Index':'equity',\n",
    "                          'MSCI EM (Emerging Markets) Index':'em_equity',\n",
    "                          'vix':'long_vol'})\n",
    "df_merged.set_index('date', inplace=True)"
   ]
  },
  {
   "cell_type": "code",
   "execution_count": null,
   "id": "b5a2d4ed",
   "metadata": {},
   "outputs": [],
   "source": [
    "# Map assets to categories\n",
    "cat_map = {'core_macro': ['commodities', 'credit', 'interest_rate', 'equity'],\n",
    "           'secondary_macro': ['us_dollar', 'us_equity', 'inflation', 'bitcoin', 'em_equity'],\n",
    "           'macro_styles': ['trend', 'long_vol'],\n",
    "           'equity_styles': ['value', 'small_cap', 'low_vol','momentum','quality']}"
   ]
  },
  {
   "cell_type": "code",
   "execution_count": 56,
   "id": "a43d9f1c",
   "metadata": {},
   "outputs": [],
   "source": [
    "# Output dataframe and dictionary to a pickle file\n",
    "import pickle\n",
    "\n",
    "with open('data_and_categories.pkl', 'wb') as f:\n",
    "    pickle.dump({'data': df_merged, 'categories': cat_map}, f)"
   ]
  },
  {
   "cell_type": "code",
   "execution_count": 57,
   "id": "0a33a504",
   "metadata": {},
   "outputs": [],
   "source": [
    "# Load pickle file\n",
    "with open('data_and_categories.pkl', 'rb') as f:\n",
    "    saved = pickle.load(f)\n",
    "    data = saved['data']\n",
    "    cat_map = saved['categories']"
   ]
  }
 ],
 "metadata": {
  "kernelspec": {
   "display_name": "dev",
   "language": "python",
   "name": "dev"
  },
  "language_info": {
   "codemirror_mode": {
    "name": "ipython",
    "version": 3
   },
   "file_extension": ".py",
   "mimetype": "text/x-python",
   "name": "python",
   "nbconvert_exporter": "python",
   "pygments_lexer": "ipython3",
   "version": "3.12.4"
  }
 },
 "nbformat": 4,
 "nbformat_minor": 5
}
