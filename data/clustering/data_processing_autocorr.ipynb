{
 "cells": [
  {
   "cell_type": "code",
   "execution_count": null,
   "id": "61c64125",
   "metadata": {},
   "outputs": [],
   "source": [
    "import numpy as np\n",
    "import pandas as pd\n",
    "import glob\n",
    "import os\n",
    "import xlrd\n",
    "import openpyxl\n",
    "import pickle\n",
    "import matplotlib.pyplot as plt\n",
    "from statsmodels.graphics.tsaplots import plot_acf\n",
    "from statsmodels.stats.diagnostic import acorr_ljungbox\n"
   ]
  },
  {
   "cell_type": "code",
   "execution_count": 79,
   "id": "5e9e62a3",
   "metadata": {},
   "outputs": [],
   "source": [
    "# load dataframes from pickle file\n",
    "with open('data_clean.pkl', 'rb') as f:\n",
    "    saved = pickle.load(f)\n",
    "    price_df = saved['price_df']\n",
    "    return_df = saved['return_df']\n",
    "    category_map = saved['category_mapping']"
   ]
  },
  {
   "cell_type": "code",
   "execution_count": 80,
   "id": "8a1d9677",
   "metadata": {},
   "outputs": [],
   "source": [
    "# Check for autocorrelation\n",
    "\n",
    "# from statsmodels.graphics.tsaplots import plot_pacf\n",
    "# for col in return_df.columns:\n",
    "#     plot_pacf(return_df[col], lags=10)\n",
    "#     plt.title(f\"{col}\")\n",
    "#     plt.show()"
   ]
  },
  {
   "cell_type": "code",
   "execution_count": null,
   "id": "49a4745d",
   "metadata": {},
   "outputs": [
    {
     "data": {
      "text/plain": [
       "[('commodities', np.float64(0.7454)),\n",
       " ('bitcoin', np.float64(0.1517)),\n",
       " ('us_dollar', np.float64(0.0631)),\n",
       " ('inflation', np.float64(0.0372)),\n",
       " ('interest_rate', np.float64(0.0073)),\n",
       " ('us_equity', np.float64(0.0)),\n",
       " ('value', np.float64(0.0)),\n",
       " ('small_cap', np.float64(0.0)),\n",
       " ('low_vol', np.float64(0.0)),\n",
       " ('credit', np.float64(0.0)),\n",
       " ('long_vol', np.float64(0.0)),\n",
       " ('momentum', np.float64(0.0)),\n",
       " ('quality', np.float64(0.0)),\n",
       " ('trend', np.float64(0.0)),\n",
       " ('equity', np.float64(0.0)),\n",
       " ('em_equity', np.float64(0.0))]"
      ]
     },
     "execution_count": 81,
     "metadata": {},
     "output_type": "execute_result"
    }
   ],
   "source": [
    "# Check autocorrelation\n",
    "\n",
    "ljungbox_result = {}\n",
    "for col in return_df.columns:\n",
    "    ljungbox_result[col] = round(acorr_ljungbox(return_df[col], lags=10).iloc[-1]['lb_pvalue'], 4)\n",
    "\n",
    "sorted_by_ljungbox = sorted(ljungbox_result.items(), key=lambda item: item[1], reverse=True)\n",
    "sorted_by_ljungbox"
   ]
  },
  {
   "cell_type": "markdown",
   "id": "0876deec",
   "metadata": {},
   "source": [
    "Takeaway on autocorrelation\n",
    "- all the equity and credit related assets show significant autocorrelation\n",
    "\n",
    "Resolution:\n",
    "- Applying a rolling window doesnt resolve autocorrelation as it will make the series more correlated.\n",
    "- Applying differencing on top of the daily returns probably helps but that will also remove plenty information\n",
    "- Aggregating daily returns to weekly will mitigate the autocorrelation for most of the markets while preserving information\n",
    "- Randomly permutate the sequence of returns"
   ]
  },
  {
   "cell_type": "code",
   "execution_count": 82,
   "id": "960ee3bc",
   "metadata": {},
   "outputs": [
    {
     "data": {
      "text/plain": [
       "[('em_equity', np.float64(0.7956)),\n",
       " ('long_vol', np.float64(0.4152)),\n",
       " ('equity', np.float64(0.3179)),\n",
       " ('interest_rate', np.float64(0.2974)),\n",
       " ('trend', np.float64(0.2559)),\n",
       " ('commodities', np.float64(0.2296)),\n",
       " ('value', np.float64(0.1419)),\n",
       " ('inflation', np.float64(0.1357)),\n",
       " ('momentum', np.float64(0.0644)),\n",
       " ('us_equity', np.float64(0.0507)),\n",
       " ('bitcoin', np.float64(0.049)),\n",
       " ('quality', np.float64(0.0483)),\n",
       " ('us_dollar', np.float64(0.0442)),\n",
       " ('small_cap', np.float64(0.0414)),\n",
       " ('low_vol', np.float64(0.0053)),\n",
       " ('credit', np.float64(0.0002))]"
      ]
     },
     "execution_count": 82,
     "metadata": {},
     "output_type": "execute_result"
    }
   ],
   "source": [
    "# Use weekly returns\n",
    "weekly_returns = return_df.resample('W').mean()\n",
    "\n",
    "ljungbox_result_wk = {}\n",
    "for col in weekly_returns.columns:\n",
    "    ljungbox_result_wk[col] = round(acorr_ljungbox(weekly_returns[col], lags=2).iloc[-1]['lb_pvalue'], 4)\n",
    "\n",
    "sorted_by_ljungbox_wk = sorted(ljungbox_result_wk.items(), key=lambda item: item[1], reverse=True)\n",
    "sorted_by_ljungbox_wk"
   ]
  },
  {
   "cell_type": "markdown",
   "id": "74f56795",
   "metadata": {},
   "source": [
    "Autocorrelation con't..\n",
    "\n",
    "There are still 6 of them showing significant autocorr after aggregating to weekly returns"
   ]
  },
  {
   "cell_type": "code",
   "execution_count": null,
   "id": "f480caad",
   "metadata": {},
   "outputs": [
    {
     "data": {
      "text/plain": [
       "[('trend', np.float64(0.8451)),\n",
       " ('long_vol', np.float64(0.7903)),\n",
       " ('equity', np.float64(0.788)),\n",
       " ('credit', np.float64(0.7741)),\n",
       " ('value', np.float64(0.6698)),\n",
       " ('us_equity', np.float64(0.6549)),\n",
       " ('bitcoin', np.float64(0.642)),\n",
       " ('em_equity', np.float64(0.5823)),\n",
       " ('low_vol', np.float64(0.576)),\n",
       " ('interest_rate', np.float64(0.5113)),\n",
       " ('us_dollar', np.float64(0.5012)),\n",
       " ('quality', np.float64(0.4811)),\n",
       " ('inflation', np.float64(0.4496)),\n",
       " ('momentum', np.float64(0.4134)),\n",
       " ('commodities', np.float64(0.2703)),\n",
       " ('small_cap', np.float64(0.2171))]"
      ]
     },
     "execution_count": 86,
     "metadata": {},
     "output_type": "execute_result"
    }
   ],
   "source": [
    "# Use permutation to break the autocorrelation\n",
    "seq = np.random.permutation(return_df.shape[0])\n",
    "sorted_returns = return_df.reset_index().iloc[seq]\n",
    "\n",
    "ljungbox_result_random = {}\n",
    "for col in return_df.columns:\n",
    "    ljungbox_result_random[col] = round(acorr_ljungbox(sorted_returns[col], lags=10).iloc[-1]['lb_pvalue'], 4)\n",
    "\n",
    "sorted_by_ljungbox_random = sorted(ljungbox_result_random.items(), key=lambda item: item[1], reverse=True)\n",
    "sorted_by_ljungbox_random\n"
   ]
  },
  {
   "cell_type": "code",
   "execution_count": null,
   "id": "1ebf9560",
   "metadata": {},
   "outputs": [],
   "source": []
  }
 ],
 "metadata": {
  "kernelspec": {
   "display_name": "dev",
   "language": "python",
   "name": "dev"
  },
  "language_info": {
   "codemirror_mode": {
    "name": "ipython",
    "version": 3
   },
   "file_extension": ".py",
   "mimetype": "text/x-python",
   "name": "python",
   "nbconvert_exporter": "python",
   "pygments_lexer": "ipython3",
   "version": "3.12.4"
  }
 },
 "nbformat": 4,
 "nbformat_minor": 5
}
