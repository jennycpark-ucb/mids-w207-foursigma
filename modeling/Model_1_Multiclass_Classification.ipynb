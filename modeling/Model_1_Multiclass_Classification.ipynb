{
 "cells": [
  {
   "cell_type": "markdown",
   "id": "6efb4712",
   "metadata": {},
   "source": [
    "## Model 1: Multiclass Classification"
   ]
  },
  {
   "cell_type": "code",
   "execution_count": 1,
   "id": "afce8db1",
   "metadata": {},
   "outputs": [],
   "source": [
    "# Import Libraries\n",
    "import pandas as pd\n",
    "import numpy as np\n",
    "import os\n",
    "from os.path import join\n",
    "import matplotlib.pyplot as plt\n",
    "import seaborn as sns  # for nicer plots\n",
    "sns.set(style=\"darkgrid\")  # default style\n",
    "\n",
    "from sklearn.metrics import confusion_matrix, ConfusionMatrixDisplay\n",
    "\n",
    "import tensorflow as tf\n",
    "from tensorflow import keras\n",
    "from tensorflow.keras.preprocessing.image import ImageDataGenerator, array_to_img, img_to_array, load_img\n",
    "\n",
    "from keras import metrics\n",
    "import keras_tuner as kt\n",
    "\n",
    "tf.get_logger().setLevel('INFO')\n"
   ]
  },
  {
   "cell_type": "code",
   "execution_count": null,
   "id": "fe37c66b",
   "metadata": {},
   "outputs": [],
   "source": [
    "with open(\"data/processed/processed_dataset.pkl\", \"rb\") as f:\n",
    "    data = pickle.load(f)"
   ]
  },
  {
   "cell_type": "code",
   "execution_count": null,
   "id": "fd908da1",
   "metadata": {},
   "outputs": [],
   "source": [
    " \"X_train_sub\": X_train_sub,         # first train with smaller subset\n",
    "        \"y_train_sub\": y_train_sub,         # first train with smaller subset\n",
    "        \"X_val_sub\": X_val_sub,             # validation for smaller subset\n",
    "        \"y_val_sub\": y_val_sub,             # validation for smaller subset\n",
    "        \"X_train\": X_train,                 # then train with all classes\n",
    "        \"y_train\": y_train,                 # then train with fall classes\n",
    "        \"X_val\": X_val,                     # validation for all classes\n",
    "        \"y_val\": y_val,                     # validation for all classes\n",
    "        \"X_test\": X_test,                   # test images (all classes)\n",
    "        \"y_test\": y_test,                   # test labels (all classes)\n",
    "        \"classes\": labels,                  # array of all class names\n",
    "        \"classes_sub\": classes_subset,      # array of class names for subset"
   ]
  }
 ],
 "metadata": {
  "kernelspec": {
   "display_name": "w207",
   "language": "python",
   "name": "python3"
  },
  "language_info": {
   "codemirror_mode": {
    "name": "ipython",
    "version": 3
   },
   "file_extension": ".py",
   "mimetype": "text/x-python",
   "name": "python",
   "nbconvert_exporter": "python",
   "pygments_lexer": "ipython3",
   "version": "3.10.13"
  }
 },
 "nbformat": 4,
 "nbformat_minor": 5
}
